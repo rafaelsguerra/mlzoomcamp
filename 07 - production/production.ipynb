{
 "cells": [
  {
   "cell_type": "markdown",
   "metadata": {},
   "source": [
    "# Homework - Production"
   ]
  },
  {
   "cell_type": "markdown",
   "metadata": {},
   "source": [
    "## Question 1\n",
    "- Install BentoML\n",
    "- What's the version of BentoML you installed?"
   ]
  },
  {
   "cell_type": "code",
   "execution_count": 1,
   "metadata": {},
   "outputs": [
    {
     "name": "stdout",
     "output_type": "stream",
     "text": [
      "bentoml, version 1.0.7\n"
     ]
    }
   ],
   "source": [
    "!bentoml --version"
   ]
  },
  {
   "cell_type": "markdown",
   "metadata": {},
   "source": [
    "## Question 2\n",
    "Run the notebook which contains random forest model from module 6 i.e previous module and save the model with BentoML. To make it easier for you we have prepared this notebook.\n",
    "\n",
    "How big approximately is the saved BentoML model? Size can slightly vary depending on your local development environment. Choose the size closest to your model.\n",
    "\n",
    "- 924kb\n",
    "- 724kb\n",
    "- 114kb\n",
    "- 8kb"
   ]
  },
  {
   "cell_type": "code",
   "execution_count": 2,
   "metadata": {},
   "outputs": [
    {
     "name": "stdout",
     "output_type": "stream",
     "text": [
      "201435\n"
     ]
    }
   ],
   "source": [
    "!stat ~/bentoml/models/credit_risk_model/w373v2sqpwrjoaav/saved_model.ubj -c %s"
   ]
  },
  {
   "cell_type": "markdown",
   "metadata": {},
   "source": [
    "## Question 3\n",
    "Say you have the following data that you're sending to your service:\n",
    "\n",
    "```json\n",
    "{\n",
    "  \"name\": \"Tim\",\n",
    "  \"age\": 37,\n",
    "  \"country\": \"US\",\n",
    "  \"rating\": 3.14\n",
    "}\n",
    "```\n",
    "What would the pydantic class look like? You can name the class `UserProfile`."
   ]
  },
  {
   "cell_type": "code",
   "execution_count": 3,
   "metadata": {},
   "outputs": [],
   "source": [
    "from pydantic import BaseModel\n",
    "\n",
    "class UserProfile(BaseModel):\n",
    "    name: str\n",
    "    age: int\n",
    "    country: str\n",
    "    rating: float"
   ]
  },
  {
   "cell_type": "markdown",
   "metadata": {},
   "source": [
    "## Question 4\n",
    "We've prepared a model for you that you can import using:\n",
    "\n",
    "```bash\n",
    "curl -O https://s3.us-west-2.amazonaws.com/bentoml.com/mlzoomcamp/coolmodel.bentomodel\n",
    "bentoml models import coolmodel.bentomodel\n",
    "```\n",
    "What version of scikit-learn was this model trained with?\n",
    "\n",
    "- 1.1.1\n",
    "- 1.1.2\n",
    "- 1.1.3\n",
    "- 1.1.4\n",
    "- 1.1.5"
   ]
  },
  {
   "cell_type": "code",
   "execution_count": 4,
   "metadata": {},
   "outputs": [
    {
     "name": "stdout",
     "output_type": "stream",
     "text": [
      "  % Total    % Received % Xferd  Average Speed   Time    Time     Time  Current\n",
      "                                 Dload  Upload   Total   Spent    Left  Speed\n",
      "100  1724  100  1724    0     0   2218      0 --:--:-- --:--:-- --:--:--  2218\n"
     ]
    }
   ],
   "source": [
    "!curl -O https://s3.us-west-2.amazonaws.com/bentoml.com/mlzoomcamp/coolmodel.bentomodel"
   ]
  },
  {
   "cell_type": "code",
   "execution_count": 5,
   "metadata": {},
   "outputs": [
    {
     "name": "stdout",
     "output_type": "stream",
     "text": [
      "Model(tag=\"mlzoomcamp_homework:qtzdz3slg6mwwdu5\") imported\n"
     ]
    }
   ],
   "source": [
    "!bentoml models import coolmodel.bentomodel"
   ]
  },
  {
   "cell_type": "code",
   "execution_count": 6,
   "metadata": {},
   "outputs": [
    {
     "name": "stdout",
     "output_type": "stream",
     "text": [
      "name: mlzoomcamp_homework\n",
      "version: qtzdz3slg6mwwdu5\n",
      "module: bentoml.sklearn\n",
      "labels: {}\n",
      "options: {}\n",
      "metadata: {}\n",
      "context:\n",
      "  framework_name: sklearn\n",
      "  framework_versions:\n",
      "    scikit-learn: 1.1.1\n",
      "  bentoml_version: 1.0.7\n",
      "  python_version: 3.9.12\n",
      "signatures:\n",
      "  predict:\n",
      "    batchable: false\n",
      "api_version: v1\n",
      "creation_time: '2022-10-13T20:42:14.411084+00:00'\n"
     ]
    }
   ],
   "source": [
    "!cat ~/bentoml/models/mlzoomcamp_homework/qtzdz3slg6mwwdu5/model.yaml"
   ]
  },
  {
   "cell_type": "markdown",
   "metadata": {},
   "source": [
    "## Question 5\n",
    "Create a bento out of this scikit-learn model. The output type for this endpoint should be `NumpyNdarray()`\n",
    "\n",
    "Send this array to the Bento:\n",
    "\n",
    "```[[6.4,3.5,4.5,1.2]]```\n",
    "\n",
    "You can use curl or the Swagger UI. What value does it return?\n",
    "\n",
    "- 0\n",
    "- 1\n",
    "- 2\n",
    "- 3\n",
    "\n",
    "(Make sure your environment has Scikit-Learn installed)"
   ]
  },
  {
   "cell_type": "code",
   "execution_count": 7,
   "metadata": {},
   "outputs": [
    {
     "name": "stdout",
     "output_type": "stream",
     "text": [
      "Name: scikit-learn\n",
      "Version: 1.1.1\n",
      "Summary: A set of python modules for machine learning and data mining\n",
      "Home-page: http://scikit-learn.org\n",
      "Author: \n",
      "Author-email: \n",
      "License: new BSD\n",
      "Location: /home/rafaelsguerra/.local/share/virtualenvs/07_-_production-h-uEbiEX/lib/python3.8/site-packages\n",
      "Requires: joblib, numpy, scipy, threadpoolctl\n",
      "Required-by: \n"
     ]
    }
   ],
   "source": [
    "!pip show -V scikit-learn"
   ]
  },
  {
   "cell_type": "code",
   "execution_count": 8,
   "metadata": {},
   "outputs": [
    {
     "name": "stdout",
     "output_type": "stream",
     "text": [
      "[1]"
     ]
    }
   ],
   "source": [
    "# After running bentoml serve bento_service.py:service in the terminal:\n",
    "\n",
    "!curl -X 'POST' \\\n",
    "  'http://localhost:3000/predict' \\\n",
    "  -H 'accept: application/json' \\\n",
    "  -H 'Content-Type: application/json' \\\n",
    "  -d '[[6.4,3.5,4.5,1.2]]'"
   ]
  },
  {
   "cell_type": "markdown",
   "metadata": {},
   "source": [
    "## Question 6\n",
    "Ensure to serve your bento with --production for this question\n",
    "\n",
    "Install locust using:\n",
    "\n",
    "```bash\n",
    "pip install locust\n",
    "```\n",
    "\n",
    "Use the following locust file: locustfile.py\n",
    "\n",
    "Ensure that it is pointed at your bento's endpoint (In case you didn't name your endpoint \"classify\")\n",
    "\n",
    "Configure 100 users with ramp time of 10 users per second. Click \"Start Swarming\" and ensure that it is working.\n",
    "\n",
    "Now download a second model with this command:\n",
    "\n",
    "```bash\n",
    "curl -O https://s3.us-west-2.amazonaws.com/bentoml.com/mlzoomcamp/coolmodel2.bentomodel\n",
    "```\n",
    "\n",
    "Or you can download with this link as well: https://s3.us-west-2.amazonaws.com/bentoml.com/mlzoomcamp/coolmodel2.bentomodel\n",
    "\n",
    "Now import the model:\n",
    "\n",
    "```bash\n",
    "bentoml models import coolmodel2.bentomodel\n",
    "```\n",
    "\n",
    "Update your bento's runner tag and test with both models. Which model allows more traffic (more throughput) as you ramp up the traffic?\n",
    "\n",
    "**Hint 1**: Remember to turn off and turn on your bento service between changing the model tag. Use Ctl-C to close the service in between trials.\n",
    "\n",
    "**Hint 2**: Increase the number of concurrent users to see which one has higher throughput\n",
    "\n",
    "Which model has better performance at higher volumes?\n",
    "\n",
    "- The first model\n",
    "- The second model"
   ]
  },
  {
   "cell_type": "code",
   "execution_count": 9,
   "metadata": {},
   "outputs": [
    {
     "name": "stdout",
     "output_type": "stream",
     "text": [
      "  % Total    % Received % Xferd  Average Speed   Time    Time     Time  Current\n",
      "                                 Dload  Upload   Total   Spent    Left  Speed\n",
      "100  1728  100  1728    0     0   2437      0 --:--:-- --:--:-- --:--:--  2437\n"
     ]
    }
   ],
   "source": [
    "!curl -O https://s3.us-west-2.amazonaws.com/bentoml.com/mlzoomcamp/coolmodel2.bentomodel"
   ]
  },
  {
   "cell_type": "code",
   "execution_count": 10,
   "metadata": {},
   "outputs": [
    {
     "name": "stdout",
     "output_type": "stream",
     "text": [
      "Model(tag=\"mlzoomcamp_homework:jsi67fslz6txydu5\") imported\n"
     ]
    }
   ],
   "source": [
    "!bentoml models import coolmodel2.bentomodel"
   ]
  },
  {
   "cell_type": "markdown",
   "metadata": {},
   "source": [
    "The images below represent the load test made with locust. The left chart corresponds to the first model, while the right chart corresponds to the second model"
   ]
  },
  {
   "cell_type": "markdown",
   "metadata": {},
   "source": [
    "Requests per second:\n",
    "\n",
    "![requests_per_second](./assets/rps.png)"
   ]
  },
  {
   "cell_type": "markdown",
   "metadata": {},
   "source": [
    "Response times\n",
    "\n",
    "![response_times](./assets/rt.png)"
   ]
  },
  {
   "cell_type": "markdown",
   "metadata": {},
   "source": [
    "Total users\n",
    "\n",
    "![total_users](./assets/users.png)"
   ]
  },
  {
   "cell_type": "markdown",
   "metadata": {},
   "source": [
    "Although the response times got a bit higher with more users accessing the endpoint, the second model was able to receive more requests than the first model when both had 500 users and the slowest requests didn't get past 1 second. So the second model has better peformance than the first."
   ]
  }
 ],
 "metadata": {
  "kernelspec": {
   "display_name": "Python 3.8.10 ('07_-_production-h-uEbiEX')",
   "language": "python",
   "name": "python3"
  },
  "language_info": {
   "codemirror_mode": {
    "name": "ipython",
    "version": 3
   },
   "file_extension": ".py",
   "mimetype": "text/x-python",
   "name": "python",
   "nbconvert_exporter": "python",
   "pygments_lexer": "ipython3",
   "version": "3.8.10"
  },
  "orig_nbformat": 4,
  "vscode": {
   "interpreter": {
    "hash": "eb344d826deebe659b15cfe57bbabefa75f2afcd6bd88e03c6e636cd282fe426"
   }
  }
 },
 "nbformat": 4,
 "nbformat_minor": 2
}
