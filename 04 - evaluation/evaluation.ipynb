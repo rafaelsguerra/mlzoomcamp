{
 "cells": [
  {
   "cell_type": "markdown",
   "metadata": {},
   "source": [
    "# Homework - Evaluation"
   ]
  },
  {
   "cell_type": "code",
   "execution_count": 1,
   "metadata": {},
   "outputs": [],
   "source": [
    "import pandas as pd\n",
    "import numpy as np\n",
    "import matplotlib.pyplot as plt\n",
    "\n",
    "from sklearn.model_selection import train_test_split, KFold\n",
    "from sklearn.feature_extraction import DictVectorizer\n",
    "from sklearn.linear_model import LogisticRegression\n",
    "from sklearn.metrics import roc_auc_score\n",
    "\n",
    "from typing import Union"
   ]
  },
  {
   "cell_type": "markdown",
   "metadata": {},
   "source": [
    "## Getting the data\n",
    "In this homework, the dataset Credit Card Data from book \"Econometric Analysis\" will be used."
   ]
  },
  {
   "cell_type": "code",
   "execution_count": 2,
   "metadata": {},
   "outputs": [
    {
     "data": {
      "text/html": [
       "<div>\n",
       "<style scoped>\n",
       "    .dataframe tbody tr th:only-of-type {\n",
       "        vertical-align: middle;\n",
       "    }\n",
       "\n",
       "    .dataframe tbody tr th {\n",
       "        vertical-align: top;\n",
       "    }\n",
       "\n",
       "    .dataframe thead th {\n",
       "        text-align: right;\n",
       "    }\n",
       "</style>\n",
       "<table border=\"1\" class=\"dataframe\">\n",
       "  <thead>\n",
       "    <tr style=\"text-align: right;\">\n",
       "      <th></th>\n",
       "      <th>card</th>\n",
       "      <th>reports</th>\n",
       "      <th>age</th>\n",
       "      <th>income</th>\n",
       "      <th>share</th>\n",
       "      <th>expenditure</th>\n",
       "      <th>owner</th>\n",
       "      <th>selfemp</th>\n",
       "      <th>dependents</th>\n",
       "      <th>months</th>\n",
       "      <th>majorcards</th>\n",
       "      <th>active</th>\n",
       "    </tr>\n",
       "  </thead>\n",
       "  <tbody>\n",
       "    <tr>\n",
       "      <th>0</th>\n",
       "      <td>yes</td>\n",
       "      <td>0</td>\n",
       "      <td>37.66667</td>\n",
       "      <td>4.5200</td>\n",
       "      <td>0.033270</td>\n",
       "      <td>124.983300</td>\n",
       "      <td>yes</td>\n",
       "      <td>no</td>\n",
       "      <td>3</td>\n",
       "      <td>54</td>\n",
       "      <td>1</td>\n",
       "      <td>12</td>\n",
       "    </tr>\n",
       "    <tr>\n",
       "      <th>1</th>\n",
       "      <td>yes</td>\n",
       "      <td>0</td>\n",
       "      <td>33.25000</td>\n",
       "      <td>2.4200</td>\n",
       "      <td>0.005217</td>\n",
       "      <td>9.854167</td>\n",
       "      <td>no</td>\n",
       "      <td>no</td>\n",
       "      <td>3</td>\n",
       "      <td>34</td>\n",
       "      <td>1</td>\n",
       "      <td>13</td>\n",
       "    </tr>\n",
       "    <tr>\n",
       "      <th>2</th>\n",
       "      <td>yes</td>\n",
       "      <td>0</td>\n",
       "      <td>33.66667</td>\n",
       "      <td>4.5000</td>\n",
       "      <td>0.004156</td>\n",
       "      <td>15.000000</td>\n",
       "      <td>yes</td>\n",
       "      <td>no</td>\n",
       "      <td>4</td>\n",
       "      <td>58</td>\n",
       "      <td>1</td>\n",
       "      <td>5</td>\n",
       "    </tr>\n",
       "    <tr>\n",
       "      <th>3</th>\n",
       "      <td>yes</td>\n",
       "      <td>0</td>\n",
       "      <td>30.50000</td>\n",
       "      <td>2.5400</td>\n",
       "      <td>0.065214</td>\n",
       "      <td>137.869200</td>\n",
       "      <td>no</td>\n",
       "      <td>no</td>\n",
       "      <td>0</td>\n",
       "      <td>25</td>\n",
       "      <td>1</td>\n",
       "      <td>7</td>\n",
       "    </tr>\n",
       "    <tr>\n",
       "      <th>4</th>\n",
       "      <td>yes</td>\n",
       "      <td>0</td>\n",
       "      <td>32.16667</td>\n",
       "      <td>9.7867</td>\n",
       "      <td>0.067051</td>\n",
       "      <td>546.503300</td>\n",
       "      <td>yes</td>\n",
       "      <td>no</td>\n",
       "      <td>2</td>\n",
       "      <td>64</td>\n",
       "      <td>1</td>\n",
       "      <td>5</td>\n",
       "    </tr>\n",
       "  </tbody>\n",
       "</table>\n",
       "</div>"
      ],
      "text/plain": [
       "  card  reports       age  income     share  expenditure owner selfemp  \\\n",
       "0  yes        0  37.66667  4.5200  0.033270   124.983300   yes      no   \n",
       "1  yes        0  33.25000  2.4200  0.005217     9.854167    no      no   \n",
       "2  yes        0  33.66667  4.5000  0.004156    15.000000   yes      no   \n",
       "3  yes        0  30.50000  2.5400  0.065214   137.869200    no      no   \n",
       "4  yes        0  32.16667  9.7867  0.067051   546.503300   yes      no   \n",
       "\n",
       "   dependents  months  majorcards  active  \n",
       "0           3      54           1      12  \n",
       "1           3      34           1      13  \n",
       "2           4      58           1       5  \n",
       "3           0      25           1       7  \n",
       "4           2      64           1       5  "
      ]
     },
     "execution_count": 2,
     "metadata": {},
     "output_type": "execute_result"
    }
   ],
   "source": [
    "data = pd.read_csv(\"https://raw.githubusercontent.com/alexeygrigorev/datasets/master/AER_credit_card_data.csv\")\n",
    "data.head()"
   ]
  },
  {
   "cell_type": "code",
   "execution_count": 3,
   "metadata": {},
   "outputs": [
    {
     "data": {
      "text/html": [
       "<div>\n",
       "<style scoped>\n",
       "    .dataframe tbody tr th:only-of-type {\n",
       "        vertical-align: middle;\n",
       "    }\n",
       "\n",
       "    .dataframe tbody tr th {\n",
       "        vertical-align: top;\n",
       "    }\n",
       "\n",
       "    .dataframe thead th {\n",
       "        text-align: right;\n",
       "    }\n",
       "</style>\n",
       "<table border=\"1\" class=\"dataframe\">\n",
       "  <thead>\n",
       "    <tr style=\"text-align: right;\">\n",
       "      <th></th>\n",
       "      <th>reports</th>\n",
       "      <th>age</th>\n",
       "      <th>income</th>\n",
       "      <th>share</th>\n",
       "      <th>expenditure</th>\n",
       "      <th>dependents</th>\n",
       "      <th>months</th>\n",
       "      <th>majorcards</th>\n",
       "      <th>active</th>\n",
       "    </tr>\n",
       "  </thead>\n",
       "  <tbody>\n",
       "    <tr>\n",
       "      <th>count</th>\n",
       "      <td>1319.000000</td>\n",
       "      <td>1319.000000</td>\n",
       "      <td>1319.000000</td>\n",
       "      <td>1319.000000</td>\n",
       "      <td>1319.000000</td>\n",
       "      <td>1319.000000</td>\n",
       "      <td>1319.000000</td>\n",
       "      <td>1319.000000</td>\n",
       "      <td>1319.000000</td>\n",
       "    </tr>\n",
       "    <tr>\n",
       "      <th>mean</th>\n",
       "      <td>0.456406</td>\n",
       "      <td>33.213103</td>\n",
       "      <td>3.365376</td>\n",
       "      <td>0.068732</td>\n",
       "      <td>185.057071</td>\n",
       "      <td>0.993935</td>\n",
       "      <td>55.267627</td>\n",
       "      <td>0.817286</td>\n",
       "      <td>6.996967</td>\n",
       "    </tr>\n",
       "    <tr>\n",
       "      <th>std</th>\n",
       "      <td>1.345267</td>\n",
       "      <td>10.142783</td>\n",
       "      <td>1.693902</td>\n",
       "      <td>0.094656</td>\n",
       "      <td>272.218917</td>\n",
       "      <td>1.247745</td>\n",
       "      <td>66.271746</td>\n",
       "      <td>0.386579</td>\n",
       "      <td>6.305812</td>\n",
       "    </tr>\n",
       "    <tr>\n",
       "      <th>min</th>\n",
       "      <td>0.000000</td>\n",
       "      <td>0.166667</td>\n",
       "      <td>0.210000</td>\n",
       "      <td>0.000109</td>\n",
       "      <td>0.000000</td>\n",
       "      <td>0.000000</td>\n",
       "      <td>0.000000</td>\n",
       "      <td>0.000000</td>\n",
       "      <td>0.000000</td>\n",
       "    </tr>\n",
       "    <tr>\n",
       "      <th>25%</th>\n",
       "      <td>0.000000</td>\n",
       "      <td>25.416670</td>\n",
       "      <td>2.243750</td>\n",
       "      <td>0.002316</td>\n",
       "      <td>4.583333</td>\n",
       "      <td>0.000000</td>\n",
       "      <td>12.000000</td>\n",
       "      <td>1.000000</td>\n",
       "      <td>2.000000</td>\n",
       "    </tr>\n",
       "    <tr>\n",
       "      <th>50%</th>\n",
       "      <td>0.000000</td>\n",
       "      <td>31.250000</td>\n",
       "      <td>2.900000</td>\n",
       "      <td>0.038827</td>\n",
       "      <td>101.298300</td>\n",
       "      <td>1.000000</td>\n",
       "      <td>30.000000</td>\n",
       "      <td>1.000000</td>\n",
       "      <td>6.000000</td>\n",
       "    </tr>\n",
       "    <tr>\n",
       "      <th>75%</th>\n",
       "      <td>0.000000</td>\n",
       "      <td>39.416670</td>\n",
       "      <td>4.000000</td>\n",
       "      <td>0.093617</td>\n",
       "      <td>249.035800</td>\n",
       "      <td>2.000000</td>\n",
       "      <td>72.000000</td>\n",
       "      <td>1.000000</td>\n",
       "      <td>11.000000</td>\n",
       "    </tr>\n",
       "    <tr>\n",
       "      <th>max</th>\n",
       "      <td>14.000000</td>\n",
       "      <td>83.500000</td>\n",
       "      <td>13.500000</td>\n",
       "      <td>0.906320</td>\n",
       "      <td>3099.505000</td>\n",
       "      <td>6.000000</td>\n",
       "      <td>540.000000</td>\n",
       "      <td>1.000000</td>\n",
       "      <td>46.000000</td>\n",
       "    </tr>\n",
       "  </tbody>\n",
       "</table>\n",
       "</div>"
      ],
      "text/plain": [
       "           reports          age       income        share  expenditure  \\\n",
       "count  1319.000000  1319.000000  1319.000000  1319.000000  1319.000000   \n",
       "mean      0.456406    33.213103     3.365376     0.068732   185.057071   \n",
       "std       1.345267    10.142783     1.693902     0.094656   272.218917   \n",
       "min       0.000000     0.166667     0.210000     0.000109     0.000000   \n",
       "25%       0.000000    25.416670     2.243750     0.002316     4.583333   \n",
       "50%       0.000000    31.250000     2.900000     0.038827   101.298300   \n",
       "75%       0.000000    39.416670     4.000000     0.093617   249.035800   \n",
       "max      14.000000    83.500000    13.500000     0.906320  3099.505000   \n",
       "\n",
       "        dependents       months   majorcards       active  \n",
       "count  1319.000000  1319.000000  1319.000000  1319.000000  \n",
       "mean      0.993935    55.267627     0.817286     6.996967  \n",
       "std       1.247745    66.271746     0.386579     6.305812  \n",
       "min       0.000000     0.000000     0.000000     0.000000  \n",
       "25%       0.000000    12.000000     1.000000     2.000000  \n",
       "50%       1.000000    30.000000     1.000000     6.000000  \n",
       "75%       2.000000    72.000000     1.000000    11.000000  \n",
       "max       6.000000   540.000000     1.000000    46.000000  "
      ]
     },
     "execution_count": 3,
     "metadata": {},
     "output_type": "execute_result"
    }
   ],
   "source": [
    "data.describe()"
   ]
  },
  {
   "cell_type": "markdown",
   "metadata": {},
   "source": [
    "## Preparing the data"
   ]
  },
  {
   "cell_type": "code",
   "execution_count": 4,
   "metadata": {},
   "outputs": [
    {
     "data": {
      "text/plain": [
       "yes    1023\n",
       "no      296\n",
       "Name: card, dtype: int64"
      ]
     },
     "execution_count": 4,
     "metadata": {},
     "output_type": "execute_result"
    }
   ],
   "source": [
    "data[\"card\"].value_counts()"
   ]
  },
  {
   "cell_type": "code",
   "execution_count": 5,
   "metadata": {},
   "outputs": [],
   "source": [
    "data[\"card\"] = data[\"card\"].apply(lambda x: 1 if x == \"yes\" else 0)\n",
    "\n",
    "df_full_train, df_test = train_test_split(data, test_size=.2, random_state=1)\n",
    "df_train, df_valid= train_test_split(df_full_train, train_size=.75, random_state=1)\n",
    "\n",
    "y_train = df_train[\"card\"].values\n",
    "y_valid = df_valid[\"card\"].values\n",
    "y_test = df_test[\"card\"].values"
   ]
  },
  {
   "cell_type": "markdown",
   "metadata": {},
   "source": [
    "## Question 1\n",
    "ROC AUC could also be used to evaluate feature importance of numerical variables.\n",
    "\n",
    "Let's do that\n",
    "\n",
    "For each numerical variable, use it as score and compute AUC with the `card` variable.\n",
    "Use the training dataset for that.\n",
    "If your AUC is < 0.5, invert this variable by putting \"-\" in front\n",
    "\n",
    "(e.g. `-df_train['expenditure']`)\n",
    "\n",
    "AUC can go below 0.5 if the variable is negatively correlated with the target varialble. You can change the direction of the correlation by negating this variable - then negative correlation becomes positive.\n",
    "\n",
    "Which numerical variable (among the following 4) has the highest AUC?\n",
    "\n",
    "- `reports`\n",
    "- `dependents`\n",
    "- `active`\n",
    "- `share`"
   ]
  },
  {
   "cell_type": "code",
   "execution_count": 6,
   "metadata": {},
   "outputs": [
    {
     "data": {
      "text/plain": [
       "{'reports': 0.7166629860689376,\n",
       " 'age': 0.5240020979407055,\n",
       " 'income': 0.5908049467233478,\n",
       " 'share': 0.989183643423692,\n",
       " 'expenditure': 0.991042345276873,\n",
       " 'dependents': 0.5327757227773791,\n",
       " 'months': 0.5294217780967629,\n",
       " 'majorcards': 0.5343859842838476,\n",
       " 'active': 0.6043173411362006}"
      ]
     },
     "execution_count": 6,
     "metadata": {},
     "output_type": "execute_result"
    }
   ],
   "source": [
    "def get_importances(X: pd.DataFrame, y: Union[pd.Series, list]) -> dict:\n",
    "    \"\"\"Calculates importance the importance of the numerical variables \n",
    "    against the target variable through calculation of the auc score.\n",
    "\n",
    "    Args:\n",
    "        df_train (pd.DataFrame): train dataset.\n",
    "        y_true (Union[pd.Series, list]): target dataset.\n",
    "\n",
    "    Returns:\n",
    "        dict: dictionary containing the variables followed by their \n",
    "        respective scores.\n",
    "    \"\"\"\n",
    "    only_numeric = X.select_dtypes(include=np.number)\n",
    "\n",
    "    highest_score = 0\n",
    "    highest_cat = \"\"\n",
    "\n",
    "    d = {}\n",
    "\n",
    "    for cat in only_numeric.columns:\n",
    "        score = roc_auc_score(y, X[cat])\n",
    "        if score < 0.5:\n",
    "            score = roc_auc_score(y, -X[cat])\n",
    "        d[cat] = score\n",
    "    \n",
    "    return d\n",
    "\n",
    "get_importances(df_train.drop(\"card\", axis=1), y_train)"
   ]
  },
  {
   "cell_type": "markdown",
   "metadata": {},
   "source": [
    "## Training the model\n",
    "From now on, use these columns only:\n",
    "\n",
    "`[\"reports\", \"age\", \"income\", \"share\", \"expenditure\", \"dependents\", \"months\", \"majorcards\", \"active\", \"owner\", \"selfemp\"]`\n",
    "\n",
    "Apply one-hot-encoding using DictVectorizer and train the logistic regression with these parameters:\n",
    "\n",
    "`LogisticRegression(solver='liblinear', C=1.0, max_iter=1000)`"
   ]
  },
  {
   "cell_type": "code",
   "execution_count": 7,
   "metadata": {},
   "outputs": [],
   "source": [
    "vectorizer = DictVectorizer(sparse=False)"
   ]
  },
  {
   "cell_type": "code",
   "execution_count": 8,
   "metadata": {},
   "outputs": [
    {
     "data": {
      "text/plain": [
       "LogisticRegression(C=1, max_iter=1000, solver='liblinear')"
      ]
     },
     "execution_count": 8,
     "metadata": {},
     "output_type": "execute_result"
    }
   ],
   "source": [
    "X_train = df_train.drop(\"card\", axis=1)\n",
    "\n",
    "X_train = vectorizer.fit_transform(X_train.to_dict(orient=\"records\"))\n",
    "log_model = LogisticRegression(solver=\"liblinear\", C=1, max_iter=1000)\n",
    "log_model.fit(X_train, y_train)"
   ]
  },
  {
   "cell_type": "markdown",
   "metadata": {},
   "source": [
    "## Question 2\n",
    "What's the AUC of this model on the validation dataset? (round to 3 digits)\n",
    "- 0.615\n",
    "- 0.515\n",
    "- 0.715\n",
    "- 0.995"
   ]
  },
  {
   "cell_type": "code",
   "execution_count": 9,
   "metadata": {},
   "outputs": [
    {
     "data": {
      "text/plain": [
       "0.995"
      ]
     },
     "execution_count": 9,
     "metadata": {},
     "output_type": "execute_result"
    }
   ],
   "source": [
    "X_valid = vectorizer.transform(df_valid.to_dict(orient=\"records\"))\n",
    "y_pred = log_model.predict_proba(X_valid)[:, 1]\n",
    "round(roc_auc_score(y_valid, y_pred), 3)"
   ]
  },
  {
   "cell_type": "markdown",
   "metadata": {},
   "source": [
    "## Question 3\n",
    "Now let's compute precision and recall for our model.\n",
    "\n",
    "- Evaluate the model on all thresholds from 0.0 to 1.0 with step 0.01\n",
    "- For each threshold, compute precision and recall\n",
    "- Plot them\n",
    "\n",
    "At which threshold precision and recall curves intersect?\n",
    "\n",
    "- 0.1\n",
    "- 0.3\n",
    "- 0.6\n",
    "- 0.8"
   ]
  },
  {
   "cell_type": "code",
   "execution_count": 10,
   "metadata": {},
   "outputs": [],
   "source": [
    "def calculate_metrics_by_threshold(y_true: np.ndarray, y_pred: np.ndarray):\n",
    "    \"\"\"Calculates precision and recall based on probability threshold\n",
    "\n",
    "    Args:\n",
    "        y_true (np.ndarray): true values\n",
    "        y_pred (np.ndarray): predicted values\n",
    "\n",
    "    Returns:\n",
    "        DataFrame: A dataframe with the metrics\n",
    "    \"\"\"\n",
    "\n",
    "    thresholds = np.linspace(0, 1, 101)\n",
    "\n",
    "    actual_positive = (y_true == 1)\n",
    "    actual_negative = (y_true == 0)\n",
    "\n",
    "    precisions = []\n",
    "    recalls = []\n",
    "    f1scores = []\n",
    "\n",
    "    for t in thresholds:\n",
    "        predict_positive = (y_pred >= t)\n",
    "        predict_negative = (y_pred < t)\n",
    "        tp = (predict_positive & actual_positive).sum()\n",
    "        tn = (predict_negative & actual_negative).sum()\n",
    "\n",
    "        fp = (predict_positive & actual_negative).sum()\n",
    "        fn = (predict_negative & actual_positive).sum()\n",
    "\n",
    "        precision = tp / (tp + fp)\n",
    "        recall = tp / (tp + fn)\n",
    "        f1 = 2 * ((precision * recall) / (precision + recall))\n",
    "\n",
    "        precisions.append(precision)\n",
    "        recalls.append(recall)\n",
    "        f1scores.append(f1)\n",
    "\n",
    "    return pd.DataFrame({\n",
    "        \"thresholds\": thresholds, \n",
    "        \"precisions\": precisions, \n",
    "        \"recalls\": recalls, \n",
    "        \"f1scores\": f1scores})"
   ]
  },
  {
   "cell_type": "code",
   "execution_count": 11,
   "metadata": {},
   "outputs": [
    {
     "data": {
      "image/png": "[encoded data removed]",
      "text/plain": [
       "<Figure size 792x576 with 1 Axes>"
      ]
     },
     "metadata": {
      "needs_background": "light"
     },
     "output_type": "display_data"
    }
   ],
   "source": [
    "metrics = calculate_metrics_by_threshold(y_valid, y_pred)\n",
    "\n",
    "plt.figure(figsize=(11, 8))\n",
    "plt.plot(metrics.thresholds, metrics.precisions, label=\"precision\")\n",
    "plt.plot(metrics.thresholds, metrics.recalls, label=\"recall\")\n",
    "plt.xticks(np.linspace(0, 1, 11))\n",
    "plt.legend()\n",
    "plt.grid()\n",
    "plt.show()"
   ]
  },
  {
   "cell_type": "code",
   "execution_count": 12,
   "metadata": {},
   "outputs": [
    {
     "data": {
      "text/plain": [
       "24    0.24\n",
       "25    0.25\n",
       "26    0.26\n",
       "27    0.27\n",
       "28    0.28\n",
       "29    0.29\n",
       "Name: thresholds, dtype: float64"
      ]
     },
     "execution_count": 12,
     "metadata": {},
     "output_type": "execute_result"
    }
   ],
   "source": [
    "metrics[metrics[\"precisions\"] == metrics[\"recalls\"]][\"thresholds\"]"
   ]
  },
  {
   "cell_type": "markdown",
   "metadata": {},
   "source": [
    "## Question 4\n",
    "Precision and recall are conflicting - when one grows, the other goes down. That's why they are often combined into the F1 score - a metrics that takes into account both\n",
    "\n",
    "This is the formula for computing :\n",
    "\n",
    "$$\n",
    "F_1=2\\cdot \\frac{P\\cdot R}{(P+R)}\n",
    "$$\n",
    "\n",
    "Where  is precision and  is recall.\n",
    "\n",
    "Let's compute F1 for all thresholds from 0.0 to 1.0 with increment 0.01 using the validation set\n",
    "\n",
    "At which threshold F1 is maximal?\n",
    "\n",
    "- 0.1\n",
    "- 0.4\n",
    "- 0.6\n",
    "- 0.7"
   ]
  },
  {
   "cell_type": "code",
   "execution_count": 13,
   "metadata": {},
   "outputs": [
    {
     "data": {
      "image/png": "[encoded data removed]",
      "text/plain": [
       "<Figure size 792x576 with 1 Axes>"
      ]
     },
     "metadata": {
      "needs_background": "light"
     },
     "output_type": "display_data"
    }
   ],
   "source": [
    "plt.figure(figsize=(11, 8))\n",
    "plt.plot(metrics.thresholds, metrics.f1scores)\n",
    "plt.xticks(np.linspace(0, 1, 11))\n",
    "plt.grid()\n",
    "plt.show()"
   ]
  },
  {
   "cell_type": "code",
   "execution_count": 14,
   "metadata": {},
   "outputs": [
    {
     "data": {
      "text/plain": [
       "35    0.35\n",
       "36    0.36\n",
       "37    0.37\n",
       "38    0.38\n",
       "39    0.39\n",
       "40    0.40\n",
       "41    0.41\n",
       "Name: thresholds, dtype: float64"
      ]
     },
     "execution_count": 14,
     "metadata": {},
     "output_type": "execute_result"
    }
   ],
   "source": [
    "maxf1 = metrics[\"f1scores\"].max()\n",
    "metrics[metrics.f1scores == maxf1][\"thresholds\"]"
   ]
  },
  {
   "cell_type": "markdown",
   "metadata": {},
   "source": [
    "## Question 5\n",
    "Use the `KFold` class from Scikit-Learn to evaluate our model on 5 different folds:\n",
    "\n",
    "`KFold(n_splits=5, shuffle=True, random_state=1)`\n",
    "\n",
    "- Iterate over different folds of `df_full_train`\n",
    "- Split the data into train and validation\n",
    "- Train the model on train with these parameters: `LogisticRegression(solver='liblinear', C=1.0, max_iter=1000)`\n",
    "- Use AUC to evaluate the model on validation\n",
    "\n",
    "How large is standard devidation of the AUC scores across different folds?\n",
    "\n",
    "- 0.003\n",
    "- 0.014\n",
    "- 0.09\n",
    "- 0.24"
   ]
  },
  {
   "cell_type": "code",
   "execution_count": 15,
   "metadata": {},
   "outputs": [],
   "source": [
    "def train(X_train: pd.DataFrame, y_train: pd.DataFrame, C=1):\n",
    "    \"\"\"Executes the training of the model.\n",
    "\n",
    "    Args:\n",
    "        X_train (pd.DataFrame): features dataset.\n",
    "        y_train (pd.DataFrame): target dataset.\n",
    "        C (int, optional): regularization force level that will be applied\n",
    "        to the model. Defaults to 1.\n",
    "\n",
    "    Returns:\n",
    "        (DictVectorizer, LogisticRegression): a fitted vectorizer that will\n",
    "        one_hot encode the categorical features and a trained logistic \n",
    "        regression model.\n",
    "    \"\"\"\n",
    "    dv = DictVectorizer(sparse=False)\n",
    "    X_train = dv.fit_transform(X_train.drop(\"card\", axis=1).to_dict(orient=\"records\"))\n",
    "    \n",
    "    model = LogisticRegression(C=C, solver=\"liblinear\", max_iter=1000)\n",
    "    model.fit(X_train, y_train)\n",
    "    return dv, model"
   ]
  },
  {
   "cell_type": "code",
   "execution_count": 16,
   "metadata": {},
   "outputs": [],
   "source": [
    "def predict(X_test: pd.DataFrame, vectorizer: DictVectorizer, model: LogisticRegression):\n",
    "    \"\"\"Executes the prediction of the model.\n",
    "\n",
    "    Args:\n",
    "        X_test (pd.DataFrame): features dataset.\n",
    "        vectorizer (DictVectorizer): vectorizer that will one-hot encode\n",
    "        the categorical variables.\n",
    "        model (LogisticRegression): trained logistic regression model.\n",
    "\n",
    "    Returns:\n",
    "        pd.ndarray: probabilites for each predicted class of the model.\n",
    "    \"\"\"\n",
    "    X = vectorizer.transform(X_test.to_dict(orient=\"records\"))\n",
    "    y_pred = model.predict_proba(X)[:, 1]\n",
    "    return y_pred"
   ]
  },
  {
   "cell_type": "code",
   "execution_count": 17,
   "metadata": {},
   "outputs": [
    {
     "data": {
      "text/plain": [
       "0.0027434713804377724"
      ]
     },
     "execution_count": 17,
     "metadata": {},
     "output_type": "execute_result"
    }
   ],
   "source": [
    "def kfold_train(kfold: KFold, data: pd.DataFrame, C=1):\n",
    "    \"\"\"Applies KFold cross validation to the training.\n",
    "\n",
    "    Args:\n",
    "        kfold (KFold): KFold instance.\n",
    "        data (pd.DataFrame): training dataset.\n",
    "        C (int, optional): regularization force level that will be applied\n",
    "        to the model. Defaults to 1.\n",
    "\n",
    "    Returns:\n",
    "        _type_: ROC AUC scores obtained after cross validation.\n",
    "    \"\"\"\n",
    "    scores = []\n",
    "    for train_indexes, valid_indexes in kfold.split(data):\n",
    "        df_train = data.iloc[train_indexes]\n",
    "        df_valid = data.iloc[valid_indexes]\n",
    "\n",
    "        y_train = df_train[\"card\"].values\n",
    "        y_valid = df_valid[\"card\"].values\n",
    "\n",
    "        vectorizer, model = train(df_train, y_train, C)\n",
    "\n",
    "        y_pred = predict(df_valid, vectorizer, model)\n",
    "\n",
    "        score = roc_auc_score(y_valid, y_pred)\n",
    "        scores.append(score)\n",
    "    return scores\n",
    "\n",
    "\n",
    "kfold = KFold(n_splits=5, shuffle=True, random_state=1)\n",
    "scores = kfold_train(kfold, df_full_train)\n",
    "    \n",
    "np.std(scores)"
   ]
  },
  {
   "cell_type": "markdown",
   "metadata": {},
   "source": [
    "## Question 6\n",
    "Now let's use 5-Fold cross-validation to find the best parameter C\n",
    "\n",
    "- Iterate over the following C values: `[0.01, 0.1, 1, 10]`\n",
    "- Initialize `KFold` with the same parameters as previously\n",
    "- Use these parametes for the model: `LogisticRegression(solver='liblinear', C=C, max_iter=1000)`\n",
    "- Compute the mean score as well as the std (round the mean and std to 3 decimal digits)\n",
    "\n",
    "Which C leads to the best mean score?\n",
    "\n",
    "- 0.01\n",
    "- 0.1\n",
    "- 1\n",
    "- 10"
   ]
  },
  {
   "cell_type": "code",
   "execution_count": 18,
   "metadata": {},
   "outputs": [
    {
     "name": "stdout",
     "output_type": "stream",
     "text": [
      "C = 0.01: {'mean': 0.9918810292344007, 'std deviation': 0.00559887235402738}\n",
      "C = 0.1: {'mean': 0.9950557137157224, 'std deviation': 0.003954138088244392}\n",
      "C = 1: {'mean': 0.9964498276814243, 'std deviation': 0.0027434713804377724}\n",
      "C = 10: {'mean': 0.9963886109436032, 'std deviation': 0.0028151486609295684}\n"
     ]
    }
   ],
   "source": [
    "C = [0.01, 0.1, 1, 10]\n",
    "kfold = KFold(shuffle=True, random_state=1)\n",
    "\n",
    "c_scores = {}\n",
    "for c_value in C:\n",
    "    scores = kfold_train(kfold, df_full_train, c_value)\n",
    "    c_scores[c_value] = {\"mean\": np.mean(scores), \"std deviation\": np.std(scores)}\n",
    "\n",
    "for c in c_scores.keys(): print(f\"C = {c}: {c_scores[c]}\")"
   ]
  }
 ],
 "metadata": {
  "kernelspec": {
   "display_name": "Python 3.8.10 64-bit",
   "language": "python",
   "name": "python3"
  },
  "language_info": {
   "codemirror_mode": {
    "name": "ipython",
    "version": 3
   },
   "file_extension": ".py",
   "mimetype": "text/x-python",
   "name": "python",
   "nbconvert_exporter": "python",
   "pygments_lexer": "ipython3",
   "version": "3.8.10"
  },
  "orig_nbformat": 4,
  "vscode": {
   "interpreter": {
    "hash": "1f17593bf1d5e565bcf1ad96bea28e70fb93c11b1967ddcc4879a0ba29f6c964"
   }
  }
 },
 "nbformat": 4,
 "nbformat_minor": 2
}
